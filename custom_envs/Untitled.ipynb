{
 "cells": [
  {
   "cell_type": "code",
   "execution_count": 4,
   "id": "61547c8f",
   "metadata": {},
   "outputs": [],
   "source": [
    "import numpy as np\n",
    "import gym\n",
    "import random"
   ]
  },
  {
   "cell_type": "code",
   "execution_count": 5,
   "id": "e2a97f0d",
   "metadata": {},
   "outputs": [],
   "source": [
    "image = np.random.randint(0,255, size=(512,512,3))"
   ]
  },
  {
   "cell_type": "code",
   "execution_count": 13,
   "id": "2fbaa74d",
   "metadata": {},
   "outputs": [],
   "source": [
    "state_velocity = np.random.randint(-10,10, size = (7))\n",
    "state_pos_x  = np.random.randint(-10,10, size = (7))\n",
    "state_pos_y  = np.random.randint(-10,10, size = (7))"
   ]
  },
  {
   "cell_type": "code",
   "execution_count": 15,
   "id": "cf4dcf9c",
   "metadata": {},
   "outputs": [
    {
     "ename": "ValueError",
     "evalue": "operands could not be broadcast together with shapes (512,512,3) (7,) ",
     "output_type": "error",
     "traceback": [
      "\u001b[0;31m---------------------------------------------------------------------------\u001b[0m",
      "\u001b[0;31mValueError\u001b[0m                                Traceback (most recent call last)",
      "\u001b[0;32m/var/folders/ph/y0swjc297dx47xlplt3w27xr0000gn/T/ipykernel_3030/3150006869.py\u001b[0m in \u001b[0;36m<module>\u001b[0;34m\u001b[0m\n\u001b[0;32m----> 1\u001b[0;31m \u001b[0mimage\u001b[0m \u001b[0;34m+\u001b[0m \u001b[0mstate_pos_x\u001b[0m \u001b[0;34m+\u001b[0m \u001b[0mstate_pos_y\u001b[0m \u001b[0;34m+\u001b[0m \u001b[0mstate_velociy\u001b[0m\u001b[0;34m\u001b[0m\u001b[0;34m\u001b[0m\u001b[0m\n\u001b[0m",
      "\u001b[0;31mValueError\u001b[0m: operands could not be broadcast together with shapes (512,512,3) (7,) "
     ]
    }
   ],
   "source": [
    "image + state_pos_x + state_pos_y + state_velociy"
   ]
  },
  {
   "cell_type": "code",
   "execution_count": null,
   "id": "5f351282",
   "metadata": {},
   "outputs": [],
   "source": []
  }
 ],
 "metadata": {
  "kernelspec": {
   "display_name": "Python [conda env:base-flow]",
   "language": "python",
   "name": "conda-env-base-flow-py"
  },
  "language_info": {
   "codemirror_mode": {
    "name": "ipython",
    "version": 3
   },
   "file_extension": ".py",
   "mimetype": "text/x-python",
   "name": "python",
   "nbconvert_exporter": "python",
   "pygments_lexer": "ipython3",
   "version": "3.9.7"
  }
 },
 "nbformat": 4,
 "nbformat_minor": 5
}
